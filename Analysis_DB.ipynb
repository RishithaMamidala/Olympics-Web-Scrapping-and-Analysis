{
 "cells": [
  {
   "cell_type": "code",
   "execution_count": 1,
   "metadata": {},
   "outputs": [],
   "source": [
    "import os\n",
    "import pandas as pd\n",
    "#import psycopg2 as pg2\n",
    "import warnings\n",
    "import pyodbc\n",
    "\n",
    "warnings.filterwarnings(\"ignore\")"
   ]
  },
  {
   "cell_type": "code",
   "execution_count": 2,
   "metadata": {},
   "outputs": [],
   "source": [
    "import json\n",
    "\n",
    "with open('config.json') as f:\n",
    "    config = json.load(f)\n",
    "\n",
    "server = config['server']\n",
    "database = config['database']\n",
    "\n",
    "conn = pyodbc.connect('DRIVER={SQL Server};SERVER='+server+';DATABASE='+database+';Trusted_Connection=yes;')\n",
    "cursor = conn.cursor()"
   ]
  },
  {
   "cell_type": "code",
   "execution_count": 3,
   "metadata": {},
   "outputs": [
    {
     "data": {
      "text/plain": [
       "<pyodbc.Cursor at 0x266f20f7d30>"
      ]
     },
     "execution_count": 3,
     "metadata": {},
     "output_type": "execute_result"
    }
   ],
   "source": [
    "cursor.execute(\"\"\"\n",
    "    INSERT INTO olympics.OlympicGames (GameName, Year, Season, HostCity)\n",
    "SELECT \n",
    "    game,\n",
    "    year,\n",
    "    season,\n",
    "    host_city\n",
    "FROM olympics.host_cities;\n",
    "\"\"\"\n",
    ")\n"
   ]
  },
  {
   "cell_type": "code",
   "execution_count": 4,
   "metadata": {},
   "outputs": [],
   "source": [
    "conn.commit()"
   ]
  },
  {
   "cell_type": "code",
   "execution_count": 5,
   "metadata": {},
   "outputs": [
    {
     "data": {
      "text/plain": [
       "<pyodbc.Cursor at 0x266f20f7d30>"
      ]
     },
     "execution_count": 5,
     "metadata": {},
     "output_type": "execute_result"
    }
   ],
   "source": [
    "cursor.execute(\"\"\"\n",
    "    INSERT INTO olympics.Sport(Sportname, GameName)\n",
    "SELECT DISTINCT \n",
    "    sport,\n",
    "    game\n",
    "FROM olympics.athlete_data\n",
    "WHERE game IN (SELECT GameName FROM olympics.OlympicGames);\n",
    "\"\"\"\n",
    ")\n"
   ]
  },
  {
   "cell_type": "code",
   "execution_count": 6,
   "metadata": {},
   "outputs": [],
   "source": [
    "conn.commit()"
   ]
  },
  {
   "cell_type": "code",
   "execution_count": 7,
   "metadata": {},
   "outputs": [
    {
     "data": {
      "text/plain": [
       "<pyodbc.Cursor at 0x266f20f7d30>"
      ]
     },
     "execution_count": 7,
     "metadata": {},
     "output_type": "execute_result"
    }
   ],
   "source": [
    "cursor.execute(\"\"\"\n",
    "    INSERT INTO olympics.Event (Eventname, Sportname, GameName)\n",
    "SELECT DISTINCT \n",
    "    event,\n",
    "    sport,\n",
    "    game\n",
    "FROM olympics.athlete_data\n",
    "WHERE sport IN (SELECT SportName FROM olympics.Sport)\n",
    "  AND game IN (SELECT GameName FROM olympics.Sport);\n",
    "\n",
    "\"\"\"\n",
    ")\n"
   ]
  },
  {
   "cell_type": "code",
   "execution_count": 8,
   "metadata": {},
   "outputs": [],
   "source": [
    "conn.commit()"
   ]
  },
  {
   "cell_type": "code",
   "execution_count": 12,
   "metadata": {},
   "outputs": [
    {
     "data": {
      "text/plain": [
       "<pyodbc.Cursor at 0x266f20f7d30>"
      ]
     },
     "execution_count": 12,
     "metadata": {},
     "output_type": "execute_result"
    }
   ],
   "source": [
    "cursor.execute(\"\"\"\n",
    "    INSERT INTO olympics.noc_Country (noc, country)\n",
    "SELECT DISTINCT \n",
    "    noc,\n",
    "    country\n",
    "FROM olympics.countries_noc\n",
    "\"\"\"\n",
    ")"
   ]
  },
  {
   "cell_type": "code",
   "execution_count": 13,
   "metadata": {},
   "outputs": [],
   "source": [
    "conn.commit()"
   ]
  },
  {
   "cell_type": "code",
   "execution_count": 16,
   "metadata": {},
   "outputs": [
    {
     "data": {
      "text/plain": [
       "<pyodbc.Cursor at 0x266f20f7d30>"
      ]
     },
     "execution_count": 16,
     "metadata": {},
     "output_type": "execute_result"
    }
   ],
   "source": [
    "cursor.execute(\"\"\"\n",
    "    INSERT INTO olympics.Athlete (AthleteId, AthleteName, Gender, Born, Died, BirthYear, DeathYear, Weight, Height, Team)\n",
    "SELECT DISTINCT \n",
    "    id,\n",
    "    name,\n",
    "    gender,\n",
    "    born,\n",
    "    died,\n",
    "    birth_year,\n",
    "    death_year,\n",
    "    weight,\n",
    "    height,\n",
    "    team\n",
    "FROM olympics.athlete_data\n",
    "WHERE team IN (SELECT country FROM olympics.countries_noc)\n",
    "\"\"\"\n",
    ")"
   ]
  },
  {
   "cell_type": "code",
   "execution_count": 17,
   "metadata": {},
   "outputs": [],
   "source": [
    "conn.commit()"
   ]
  },
  {
   "cell_type": "code",
   "execution_count": 21,
   "metadata": {},
   "outputs": [
    {
     "data": {
      "text/plain": [
       "<pyodbc.Cursor at 0x266f20f7d30>"
      ]
     },
     "execution_count": 21,
     "metadata": {},
     "output_type": "execute_result"
    }
   ],
   "source": [
    "cursor.execute(\"\"\"\n",
    "    INSERT INTO olympics.Participation (AthleteId, GameName, SportName, EventName, Position, Medal)\n",
    "SELECT DISTINCT \n",
    "    id,\n",
    "    game,\n",
    "    sport,\n",
    "    event,\n",
    "    position,\n",
    "    medal\n",
    "FROM olympics.athlete_data\n",
    "WHERE sport IN (SELECT SportName FROM olympics.Event)\n",
    "  AND game IN (SELECT GameName FROM olympics.Event)\n",
    "  AND event IN (SELECT EventName FROM olympics.Event)\n",
    "  AND id IN (SELECT AthleteId FROM olympics.Athlete);\n",
    "\"\"\"\n",
    ")"
   ]
  },
  {
   "cell_type": "code",
   "execution_count": 22,
   "metadata": {},
   "outputs": [],
   "source": [
    "conn.commit()"
   ]
  }
 ],
 "metadata": {
  "kernelspec": {
   "display_name": "Python 3",
   "language": "python",
   "name": "python3"
  },
  "language_info": {
   "codemirror_mode": {
    "name": "ipython",
    "version": 3
   },
   "file_extension": ".py",
   "mimetype": "text/x-python",
   "name": "python",
   "nbconvert_exporter": "python",
   "pygments_lexer": "ipython3",
   "version": "3.10.6"
  }
 },
 "nbformat": 4,
 "nbformat_minor": 2
}
